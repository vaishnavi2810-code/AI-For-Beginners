{
  "nbformat": 4,
  "nbformat_minor": 0,
  "metadata": {
    "colab": {
      "name": "term-statistics.ipynb",
      "provenance": [],
      "include_colab_link": true
    },
    "kernelspec": {
      "name": "python3",
      "display_name": "Python 3"
    },
    "language_info": {
      "name": "python"
    }
  },
  "cells": [
    {
      "cell_type": "markdown",
      "metadata": {
        "id": "view-in-github",
        "colab_type": "text"
      },
      "source": [
        "<a href=\"https://colab.research.google.com/github/vaishnavi2810-code/AI-For-Beginners/blob/main/token_counts.ipynb\" target=\"_parent\"><img src=\"https://colab.research.google.com/assets/colab-badge.svg\" alt=\"Open In Colab\"/></a>"
      ]
    },
    {
      "cell_type": "markdown",
      "metadata": {
        "id": "2yYCQrU0J5C5"
      },
      "source": [
        "# Empirical Regularities of Language\n",
        "\n",
        "In this first homework assignment, you will familiarize yourself with some empirical regularities of natural language, Shannon entropy and Zipf's Law.\n",
        "\n",
        "Read through this Jupyter notebook and fill in the parts marked with `TODO`. When you're ready to submit, print the notebook as a PDF and upload to Gradescope.\n",
        "\n",
        "## Shannon Entropy\n",
        "\n",
        "Shannon borrowed the concept of entropy from statistical physics to develop _information theory_, focused on encoding and compressing messages. A few years later, in 1950, he applied information theory to analyze human predictive ability—in other words, the entropy of the human language model. You can read the original article, [Prediction and Entropy of Printed English](https://languagelog.ldc.upenn.edu/myl/Shannon1950.pdf), for more details.\n",
        "\n",
        "Your first task is to collect data on how predictable different letters are in an English sentence, depending on how much context in a word or sentence you have.\n",
        "\n",
        "Go to the [Shannon game page](https://www.ccs.neu.edu/home/dasmith/courses/cs6120/shannon/) that we demonstrated in class. We already guessed part of Text 1, so work through Texts 2, 3, and 4."
      ]
    },
    {
      "cell_type": "code",
      "source": [
        "# TODO: Enter the arrays of numbers of guesses for Texts 2, 3, and 4 here.\n",
        "text2 = [1,7,1,1,1,1,1,1,9,4,1,1,1,5,1,1,1,1,7,1,4,1,1,1,1,1,1,12,1,1,5,1,11,1,1,1,1,1,3,1,1,1,1,1,1,1,1]\n",
        "text3 = [3,2,27,14,13,2,4,1,5,15,15,1,2,21,1,1,1,1,2,1,1,1,1,1,1,14,3,18,2,1,1,1,1,2,1,15,1,21,1,1,1,4,10,5,27,15,1,1,3,1,1,1,12,19,1,14,1,18,6,3,1,1,1,1,1,1,1]\n",
        "text4 = [7,3,6,2,2,10,20,2,1,1,1,1,1,1,1,20,6,15,3,1,1,1,1,1,4,2,9,6,20,1,1,1,3,1,20,22,1,1,1,6,1,16,25,1,21,9,3,2,1,1,1,1,1,3,1,1,1]\n",
        "\n",
        "print(len(text2), len(text3), len(text4))\n",
        "print(len(\"federal officials began to stockpile ammunition\"))\n",
        "print(len(\"to draw conclusions from materials often discordant is no easy task\"))\n",
        "print(len(\"each iteration tends to beget a better copy than the last\"))"
      ],
      "metadata": {
        "id": "n6siYs-p0-_E",
        "colab": {
          "base_uri": "https://localhost:8080/"
        },
        "outputId": "86f546dc-412c-4191-fe40-19940e4d3c59"
      },
      "execution_count": 11,
      "outputs": [
        {
          "output_type": "stream",
          "name": "stdout",
          "text": [
            "47 67 57\n",
            "47\n",
            "67\n",
            "57\n"
          ]
        }
      ]
    },
    {
      "cell_type": "markdown",
      "source": [
        "Rearrange the guess data into a two-dimensional array, relating number of characters of context (0, 1, 2, ...) to number of guesses required.\n",
        "\n",
        "In other words, you might look in cell (2, 1) and read \"2\" if the number of times it took one guess to get the right letter with two characters of context was 2."
      ],
      "metadata": {
        "id": "3P2UvFmj2Ep2"
      }
    },
    {
      "cell_type": "code",
      "source": [
        "# TODO: Create array of counts of guesses. Print out the array so we can see it.\n",
        "text2 = [1,7,1,1,1,1,1,1,9,4,1,1,1,5,1,1,1,1,7,1,4,1,1,1,1,1,1,12,1,1,5,1,11,1,1,1,1,1,3,1,1,1,1,1,1,1,1]\n",
        "import numpy as np\n",
        "import pandas as pd\n",
        "\n",
        "def make_context_guess_matrix(guesses):\n",
        "    \"\"\"\n",
        "    Rearrange guess data into a 2D array.\n",
        "    Row = context size (0, 1, 2, ...)\n",
        "    Col = number of guesses (1, 2, 3, ...)\n",
        "    Entry = how many times that many guesses occurred at that context.\n",
        "    \"\"\"\n",
        "    max_context = len(guesses) - 1\n",
        "    max_guess = max(guesses)\n",
        "\n",
        "    # matrix with columns = 1..max_guess\n",
        "    counts = np.zeros((max_context+1, max_guess), dtype=int)\n",
        "\n",
        "    for context, guess in enumerate(guesses):\n",
        "        counts[context, guess-1] += 1   # shift by 1\n",
        "\n",
        "    return counts\n",
        "\n",
        "matrix_for_text2 = make_context_guess_matrix(text2)\n",
        "matrix_for_text3 = make_context_guess_matrix(text3)\n",
        "matrix_for_text4 = make_context_guess_matrix(text4)\n",
        "#df = pd.DataFrame(matrix, columns=range(1, matrix.shape[1]+1))\n",
        "#print(df.to_string())\n",
        "\n",
        "max_rows = max(matrix_for_text2.shape[0],matrix_for_text3.shape[0], matrix_for_text4.shape[0])\n",
        "max_cols = max(matrix_for_text2.shape[1],matrix_for_text3.shape[1], matrix_for_text4.shape[1])\n",
        "\n",
        "def pad_matrix(mat, rows, cols):\n",
        "  out = np.zeros((rows, cols), dtype=int)\n",
        "  out[:mat.shape[0], :mat.shape[1]] = mat\n",
        "  return out\n",
        "\n",
        "matrix_for_text2 = pad_matrix(matrix_for_text2, max_rows, max_cols)\n",
        "matrix_for_text3 = pad_matrix(matrix_for_text3, max_rows, max_cols)\n",
        "matrix_for_text4 = pad_matrix(matrix_for_text4, max_rows, max_cols)\n",
        "\n",
        "# Combined result\n",
        "combined = matrix_for_text2 + matrix_for_text3 + matrix_for_text4\n",
        "\n",
        "df = pd.DataFrame(combined, columns=range(1, combined.shape[1]+1))\n",
        "print(df.to_string())\n"
      ],
      "metadata": {
        "id": "deK9pKWC1Qp_",
        "colab": {
          "base_uri": "https://localhost:8080/"
        },
        "outputId": "e07b2e1a-5259-4295-db42-8ed721009843"
      },
      "execution_count": 12,
      "outputs": [
        {
          "output_type": "stream",
          "name": "stdout",
          "text": [
            "    1   2   3   4   5   6   7   8   9   10  11  12  13  14  15  16  17  18  19  20  21  22  23  24  25  26  27\n",
            "0    1   0   1   0   0   0   1   0   0   0   0   0   0   0   0   0   0   0   0   0   0   0   0   0   0   0   0\n",
            "1    0   1   1   0   0   0   1   0   0   0   0   0   0   0   0   0   0   0   0   0   0   0   0   0   0   0   0\n",
            "2    1   0   0   0   0   1   0   0   0   0   0   0   0   0   0   0   0   0   0   0   0   0   0   0   0   0   1\n",
            "3    1   1   0   0   0   0   0   0   0   0   0   0   0   1   0   0   0   0   0   0   0   0   0   0   0   0   0\n",
            "4    1   1   0   0   0   0   0   0   0   0   0   0   1   0   0   0   0   0   0   0   0   0   0   0   0   0   0\n",
            "5    1   1   0   0   0   0   0   0   0   1   0   0   0   0   0   0   0   0   0   0   0   0   0   0   0   0   0\n",
            "6    1   0   0   1   0   0   0   0   0   0   0   0   0   0   0   0   0   0   0   1   0   0   0   0   0   0   0\n",
            "7    2   1   0   0   0   0   0   0   0   0   0   0   0   0   0   0   0   0   0   0   0   0   0   0   0   0   0\n",
            "8    1   0   0   0   1   0   0   0   1   0   0   0   0   0   0   0   0   0   0   0   0   0   0   0   0   0   0\n",
            "9    1   0   0   1   0   0   0   0   0   0   0   0   0   0   1   0   0   0   0   0   0   0   0   0   0   0   0\n",
            "10   2   0   0   0   0   0   0   0   0   0   0   0   0   0   1   0   0   0   0   0   0   0   0   0   0   0   0\n",
            "11   3   0   0   0   0   0   0   0   0   0   0   0   0   0   0   0   0   0   0   0   0   0   0   0   0   0   0\n",
            "12   2   1   0   0   0   0   0   0   0   0   0   0   0   0   0   0   0   0   0   0   0   0   0   0   0   0   0\n",
            "13   1   0   0   0   1   0   0   0   0   0   0   0   0   0   0   0   0   0   0   0   1   0   0   0   0   0   0\n",
            "14   3   0   0   0   0   0   0   0   0   0   0   0   0   0   0   0   0   0   0   0   0   0   0   0   0   0   0\n",
            "15   2   0   0   0   0   0   0   0   0   0   0   0   0   0   0   0   0   0   0   1   0   0   0   0   0   0   0\n",
            "16   2   0   0   0   0   1   0   0   0   0   0   0   0   0   0   0   0   0   0   0   0   0   0   0   0   0   0\n",
            "17   2   0   0   0   0   0   0   0   0   0   0   0   0   0   1   0   0   0   0   0   0   0   0   0   0   0   0\n",
            "18   0   1   1   0   0   0   1   0   0   0   0   0   0   0   0   0   0   0   0   0   0   0   0   0   0   0   0\n",
            "19   3   0   0   0   0   0   0   0   0   0   0   0   0   0   0   0   0   0   0   0   0   0   0   0   0   0   0\n",
            "20   2   0   0   1   0   0   0   0   0   0   0   0   0   0   0   0   0   0   0   0   0   0   0   0   0   0   0\n",
            "21   3   0   0   0   0   0   0   0   0   0   0   0   0   0   0   0   0   0   0   0   0   0   0   0   0   0   0\n",
            "22   3   0   0   0   0   0   0   0   0   0   0   0   0   0   0   0   0   0   0   0   0   0   0   0   0   0   0\n",
            "23   3   0   0   0   0   0   0   0   0   0   0   0   0   0   0   0   0   0   0   0   0   0   0   0   0   0   0\n",
            "24   2   0   0   1   0   0   0   0   0   0   0   0   0   0   0   0   0   0   0   0   0   0   0   0   0   0   0\n",
            "25   1   1   0   0   0   0   0   0   0   0   0   0   0   1   0   0   0   0   0   0   0   0   0   0   0   0   0\n",
            "26   1   0   1   0   0   0   0   0   1   0   0   0   0   0   0   0   0   0   0   0   0   0   0   0   0   0   0\n",
            "27   0   0   0   0   0   1   0   0   0   0   0   1   0   0   0   0   0   1   0   0   0   0   0   0   0   0   0\n",
            "28   1   1   0   0   0   0   0   0   0   0   0   0   0   0   0   0   0   0   0   1   0   0   0   0   0   0   0\n",
            "29   3   0   0   0   0   0   0   0   0   0   0   0   0   0   0   0   0   0   0   0   0   0   0   0   0   0   0\n",
            "30   2   0   0   0   1   0   0   0   0   0   0   0   0   0   0   0   0   0   0   0   0   0   0   0   0   0   0\n",
            "31   3   0   0   0   0   0   0   0   0   0   0   0   0   0   0   0   0   0   0   0   0   0   0   0   0   0   0\n",
            "32   1   0   1   0   0   0   0   0   0   0   1   0   0   0   0   0   0   0   0   0   0   0   0   0   0   0   0\n",
            "33   2   1   0   0   0   0   0   0   0   0   0   0   0   0   0   0   0   0   0   0   0   0   0   0   0   0   0\n",
            "34   2   0   0   0   0   0   0   0   0   0   0   0   0   0   0   0   0   0   0   1   0   0   0   0   0   0   0\n",
            "35   1   0   0   0   0   0   0   0   0   0   0   0   0   0   1   0   0   0   0   0   0   1   0   0   0   0   0\n",
            "36   3   0   0   0   0   0   0   0   0   0   0   0   0   0   0   0   0   0   0   0   0   0   0   0   0   0   0\n",
            "37   2   0   0   0   0   0   0   0   0   0   0   0   0   0   0   0   0   0   0   0   1   0   0   0   0   0   0\n",
            "38   2   0   1   0   0   0   0   0   0   0   0   0   0   0   0   0   0   0   0   0   0   0   0   0   0   0   0\n",
            "39   2   0   0   0   0   1   0   0   0   0   0   0   0   0   0   0   0   0   0   0   0   0   0   0   0   0   0\n",
            "40   3   0   0   0   0   0   0   0   0   0   0   0   0   0   0   0   0   0   0   0   0   0   0   0   0   0   0\n",
            "41   1   0   0   1   0   0   0   0   0   0   0   0   0   0   0   1   0   0   0   0   0   0   0   0   0   0   0\n",
            "42   1   0   0   0   0   0   0   0   0   1   0   0   0   0   0   0   0   0   0   0   0   0   0   0   1   0   0\n",
            "43   2   0   0   0   1   0   0   0   0   0   0   0   0   0   0   0   0   0   0   0   0   0   0   0   0   0   0\n",
            "44   1   0   0   0   0   0   0   0   0   0   0   0   0   0   0   0   0   0   0   0   1   0   0   0   0   0   1\n",
            "45   1   0   0   0   0   0   0   0   1   0   0   0   0   0   1   0   0   0   0   0   0   0   0   0   0   0   0\n",
            "46   2   0   1   0   0   0   0   0   0   0   0   0   0   0   0   0   0   0   0   0   0   0   0   0   0   0   0\n",
            "47   1   1   0   0   0   0   0   0   0   0   0   0   0   0   0   0   0   0   0   0   0   0   0   0   0   0   0\n",
            "48   1   0   1   0   0   0   0   0   0   0   0   0   0   0   0   0   0   0   0   0   0   0   0   0   0   0   0\n",
            "49   2   0   0   0   0   0   0   0   0   0   0   0   0   0   0   0   0   0   0   0   0   0   0   0   0   0   0\n",
            "50   2   0   0   0   0   0   0   0   0   0   0   0   0   0   0   0   0   0   0   0   0   0   0   0   0   0   0\n",
            "51   2   0   0   0   0   0   0   0   0   0   0   0   0   0   0   0   0   0   0   0   0   0   0   0   0   0   0\n",
            "52   1   0   0   0   0   0   0   0   0   0   0   1   0   0   0   0   0   0   0   0   0   0   0   0   0   0   0\n",
            "53   0   0   1   0   0   0   0   0   0   0   0   0   0   0   0   0   0   0   1   0   0   0   0   0   0   0   0\n",
            "54   2   0   0   0   0   0   0   0   0   0   0   0   0   0   0   0   0   0   0   0   0   0   0   0   0   0   0\n",
            "55   1   0   0   0   0   0   0   0   0   0   0   0   0   1   0   0   0   0   0   0   0   0   0   0   0   0   0\n",
            "56   2   0   0   0   0   0   0   0   0   0   0   0   0   0   0   0   0   0   0   0   0   0   0   0   0   0   0\n",
            "57   0   0   0   0   0   0   0   0   0   0   0   0   0   0   0   0   0   1   0   0   0   0   0   0   0   0   0\n",
            "58   0   0   0   0   0   1   0   0   0   0   0   0   0   0   0   0   0   0   0   0   0   0   0   0   0   0   0\n",
            "59   0   0   1   0   0   0   0   0   0   0   0   0   0   0   0   0   0   0   0   0   0   0   0   0   0   0   0\n",
            "60   1   0   0   0   0   0   0   0   0   0   0   0   0   0   0   0   0   0   0   0   0   0   0   0   0   0   0\n",
            "61   1   0   0   0   0   0   0   0   0   0   0   0   0   0   0   0   0   0   0   0   0   0   0   0   0   0   0\n",
            "62   1   0   0   0   0   0   0   0   0   0   0   0   0   0   0   0   0   0   0   0   0   0   0   0   0   0   0\n",
            "63   1   0   0   0   0   0   0   0   0   0   0   0   0   0   0   0   0   0   0   0   0   0   0   0   0   0   0\n",
            "64   1   0   0   0   0   0   0   0   0   0   0   0   0   0   0   0   0   0   0   0   0   0   0   0   0   0   0\n",
            "65   1   0   0   0   0   0   0   0   0   0   0   0   0   0   0   0   0   0   0   0   0   0   0   0   0   0   0\n",
            "66   1   0   0   0   0   0   0   0   0   0   0   0   0   0   0   0   0   0   0   0   0   0   0   0   0   0   0\n"
          ]
        }
      ]
    },
    {
      "cell_type": "markdown",
      "source": [
        "Now you can compute Shannon's upper and lower bounds on the entropy of your predictive distribution for English. The upper bound, as a function of the number of context characters $N$, is just the Shannon entropy of the distribution of numbers of guesses. In other words, it's the entropy of the original text as &ldquo;reduced&rdquo; by the human encoder to a sequence of numbers of guesses.\n",
        "\n",
        "$F_N = -\\sum_{i=1}^{27} q_i^N \\log_2 q_i^N$\n",
        "\n",
        "where $q_i^N$ is the number of times you took $i$ guesses with $N$ characters of context, i.e., one of the cells in the table you computed. The number of guesses ranges from 1 to 27 since we restrict ourselves to 26 letters plus space. In computing entropy, we define $0 \\log 0 = 0$."
      ],
      "metadata": {
        "id": "BR9BqdYO2eTO"
      }
    },
    {
      "cell_type": "code",
      "source": [
        "# TODO: Compute the upper bound for each amount of context N and print it out.\n",
        "\n",
        "def compute_entropy_per_context(matrix):\n",
        "    \"\"\"\n",
        "    Compute Shannon entropy upper bound for each context level.\n",
        "    matrix: 2D array, rows=context, cols=guesses (1..27)\n",
        "    \"\"\"\n",
        "    entropies = []\n",
        "    for row in matrix:\n",
        "        total = row.sum()\n",
        "        if total == 0:\n",
        "            entropies.append(0.0)\n",
        "            continue\n",
        "        probs = row / total\n",
        "        #q = np.cumsum(probs[::-1])[::-1]\n",
        "\n",
        "        # Upper bound = sum of q_i\n",
        "        #ub = np.sum(q)\n",
        "        #entropies.append(ub)\n",
        "        entropy = -np.sum(probs[probs > 0] * np.log2(probs[probs > 0]))\n",
        "        entropies.append(entropy)\n",
        "    return entropies\n",
        "\n",
        "# Example: compute from combined matrix\n",
        "entropies = compute_entropy_per_context(combined)\n",
        "\n",
        "for N, H in enumerate(entropies):\n",
        "    print(f\"Context {N}: Entropy upper bound = {H:.4f} bits\")\n"
      ],
      "metadata": {
        "id": "4ubcFqVv4CjC",
        "colab": {
          "base_uri": "https://localhost:8080/"
        },
        "outputId": "5145e979-6da9-4431-ecea-e68b8fe3f4af"
      },
      "execution_count": 15,
      "outputs": [
        {
          "output_type": "stream",
          "name": "stdout",
          "text": [
            "Context 0: Entropy upper bound = 1.5850 bits\n",
            "Context 1: Entropy upper bound = 1.5850 bits\n",
            "Context 2: Entropy upper bound = 1.5850 bits\n",
            "Context 3: Entropy upper bound = 1.5850 bits\n",
            "Context 4: Entropy upper bound = 1.5850 bits\n",
            "Context 5: Entropy upper bound = 1.5850 bits\n",
            "Context 6: Entropy upper bound = 1.5850 bits\n",
            "Context 7: Entropy upper bound = 0.9183 bits\n",
            "Context 8: Entropy upper bound = 1.5850 bits\n",
            "Context 9: Entropy upper bound = 1.5850 bits\n",
            "Context 10: Entropy upper bound = 0.9183 bits\n",
            "Context 11: Entropy upper bound = -0.0000 bits\n",
            "Context 12: Entropy upper bound = 0.9183 bits\n",
            "Context 13: Entropy upper bound = 1.5850 bits\n",
            "Context 14: Entropy upper bound = -0.0000 bits\n",
            "Context 15: Entropy upper bound = 0.9183 bits\n",
            "Context 16: Entropy upper bound = 0.9183 bits\n",
            "Context 17: Entropy upper bound = 0.9183 bits\n",
            "Context 18: Entropy upper bound = 1.5850 bits\n",
            "Context 19: Entropy upper bound = -0.0000 bits\n",
            "Context 20: Entropy upper bound = 0.9183 bits\n",
            "Context 21: Entropy upper bound = -0.0000 bits\n",
            "Context 22: Entropy upper bound = -0.0000 bits\n",
            "Context 23: Entropy upper bound = -0.0000 bits\n",
            "Context 24: Entropy upper bound = 0.9183 bits\n",
            "Context 25: Entropy upper bound = 1.5850 bits\n",
            "Context 26: Entropy upper bound = 1.5850 bits\n",
            "Context 27: Entropy upper bound = 1.5850 bits\n",
            "Context 28: Entropy upper bound = 1.5850 bits\n",
            "Context 29: Entropy upper bound = -0.0000 bits\n",
            "Context 30: Entropy upper bound = 0.9183 bits\n",
            "Context 31: Entropy upper bound = -0.0000 bits\n",
            "Context 32: Entropy upper bound = 1.5850 bits\n",
            "Context 33: Entropy upper bound = 0.9183 bits\n",
            "Context 34: Entropy upper bound = 0.9183 bits\n",
            "Context 35: Entropy upper bound = 1.5850 bits\n",
            "Context 36: Entropy upper bound = -0.0000 bits\n",
            "Context 37: Entropy upper bound = 0.9183 bits\n",
            "Context 38: Entropy upper bound = 0.9183 bits\n",
            "Context 39: Entropy upper bound = 0.9183 bits\n",
            "Context 40: Entropy upper bound = -0.0000 bits\n",
            "Context 41: Entropy upper bound = 1.5850 bits\n",
            "Context 42: Entropy upper bound = 1.5850 bits\n",
            "Context 43: Entropy upper bound = 0.9183 bits\n",
            "Context 44: Entropy upper bound = 1.5850 bits\n",
            "Context 45: Entropy upper bound = 1.5850 bits\n",
            "Context 46: Entropy upper bound = 0.9183 bits\n",
            "Context 47: Entropy upper bound = 1.0000 bits\n",
            "Context 48: Entropy upper bound = 1.0000 bits\n",
            "Context 49: Entropy upper bound = -0.0000 bits\n",
            "Context 50: Entropy upper bound = -0.0000 bits\n",
            "Context 51: Entropy upper bound = -0.0000 bits\n",
            "Context 52: Entropy upper bound = 1.0000 bits\n",
            "Context 53: Entropy upper bound = 1.0000 bits\n",
            "Context 54: Entropy upper bound = -0.0000 bits\n",
            "Context 55: Entropy upper bound = 1.0000 bits\n",
            "Context 56: Entropy upper bound = -0.0000 bits\n",
            "Context 57: Entropy upper bound = -0.0000 bits\n",
            "Context 58: Entropy upper bound = -0.0000 bits\n",
            "Context 59: Entropy upper bound = -0.0000 bits\n",
            "Context 60: Entropy upper bound = -0.0000 bits\n",
            "Context 61: Entropy upper bound = -0.0000 bits\n",
            "Context 62: Entropy upper bound = -0.0000 bits\n",
            "Context 63: Entropy upper bound = -0.0000 bits\n",
            "Context 64: Entropy upper bound = -0.0000 bits\n",
            "Context 65: Entropy upper bound = -0.0000 bits\n",
            "Context 66: Entropy upper bound = -0.0000 bits\n"
          ]
        }
      ]
    },
    {
      "cell_type": "markdown",
      "source": [
        "Shannon derived a lower bound on entropy from the guess data as\n",
        "\n",
        "$\\sum_{i=1}^{27} i(q_i^N - q_{i+1}^N) \\log_2 i$"
      ],
      "metadata": {
        "id": "NRULmLAM4I5g"
      }
    },
    {
      "cell_type": "code",
      "source": [
        "# TODO: Compute thew lower bound for each amount of context N and print it out.\n",
        "def lower_bound(matrix):\n",
        "  entropies = []\n",
        "  for row in matrix:\n",
        "    total = row.sum()\n",
        "    if total == 0:\n",
        "      entropies.append(0.0)\n",
        "      continue\n",
        "    probs = row/total\n",
        "    probs_ext = np.concatenate([probs,[0.0]])\n",
        "    values = np.arange(1, len(probs_ext))\n",
        "    diff = probs_ext[:-1] - probs_ext[1:]\n",
        "    term = values*diff*np.log2(values)\n",
        "    entropies.append(np.sum(term))\n",
        "  return np.array(entropies)\n",
        "\n",
        "# Example: compute from combined matrix\n",
        "entropies = lower_bound(combined)\n",
        "\n",
        "for N, H in enumerate(entropies):\n",
        "    print(f\"Context {N}: Entropy lower bound = {H:.4f} bits\")\n"
      ],
      "metadata": {
        "id": "QjRBkxVdB-4S",
        "colab": {
          "base_uri": "https://localhost:8080/"
        },
        "outputId": "82bcda9d-d240-4d2f-844b-b39bb0d4940f"
      },
      "execution_count": null,
      "outputs": [
        {
          "output_type": "stream",
          "name": "stdout",
          "text": [
            "Context 0: Entropy lower bound = 2.2989 bits\n",
            "Context 1: Entropy lower bound = 2.9655 bits\n",
            "Context 2: Entropy lower bound = 3.3569 bits\n",
            "Context 3: Entropy lower bound = 2.3991 bits\n",
            "Context 4: Entropy lower bound = 2.3621 bits\n",
            "Context 5: Entropy lower bound = 2.2300 bits\n",
            "Context 6: Entropy lower bound = 2.9910 bits\n",
            "Context 7: Entropy lower bound = 0.6667 bits\n",
            "Context 8: Entropy lower bound = 2.7130 bits\n",
            "Context 9: Entropy lower bound = 2.8485 bits\n",
            "Context 10: Entropy lower bound = 1.7668 bits\n",
            "Context 11: Entropy lower bound = 0.0000 bits\n",
            "Context 12: Entropy lower bound = 0.6667 bits\n",
            "Context 13: Entropy lower bound = 3.1366 bits\n",
            "Context 14: Entropy lower bound = 0.0000 bits\n",
            "Context 15: Entropy lower bound = 1.9093 bits\n",
            "Context 16: Entropy lower bound = 1.3000 bits\n",
            "Context 17: Entropy lower bound = 1.7668 bits\n",
            "Context 18: Entropy lower bound = 2.9655 bits\n",
            "Context 19: Entropy lower bound = 0.0000 bits\n",
            "Context 20: Entropy lower bound = 1.0817 bits\n",
            "Context 21: Entropy lower bound = 0.0000 bits\n",
            "Context 22: Entropy lower bound = 0.0000 bits\n",
            "Context 23: Entropy lower bound = 0.0000 bits\n",
            "Context 24: Entropy lower bound = 1.0817 bits\n",
            "Context 25: Entropy lower bound = 2.3991 bits\n",
            "Context 26: Entropy lower bound = 2.4281 bits\n",
            "Context 27: Entropy lower bound = 4.8126 bits\n",
            "Context 28: Entropy lower bound = 2.5760 bits\n",
            "Context 29: Entropy lower bound = 0.0000 bits\n",
            "Context 30: Entropy lower bound = 1.2032 bits\n",
            "Context 31: Entropy lower bound = 0.0000 bits\n",
            "Context 32: Entropy lower bound = 2.5298 bits\n",
            "Context 33: Entropy lower bound = 0.6667 bits\n",
            "Context 34: Entropy lower bound = 1.9093 bits\n",
            "Context 35: Entropy lower bound = 3.7231 bits\n",
            "Context 36: Entropy lower bound = 0.0000 bits\n",
            "Context 37: Entropy lower bound = 1.9334 bits\n",
            "Context 38: Entropy lower bound = 0.9183 bits\n",
            "Context 39: Entropy lower bound = 1.3000 bits\n",
            "Context 40: Entropy lower bound = 0.0000 bits\n",
            "Context 41: Entropy lower bound = 2.8806 bits\n",
            "Context 42: Entropy lower bound = 3.5824 bits\n",
            "Context 43: Entropy lower bound = 1.2032 bits\n",
            "Context 44: Entropy lower bound = 3.9902 bits\n",
            "Context 45: Entropy lower bound = 3.2766 bits\n",
            "Context 46: Entropy lower bound = 0.9183 bits\n",
            "Context 47: Entropy lower bound = 1.0000 bits\n",
            "Context 48: Entropy lower bound = 1.3774 bits\n",
            "Context 49: Entropy lower bound = 0.0000 bits\n",
            "Context 50: Entropy lower bound = 0.0000 bits\n",
            "Context 51: Entropy lower bound = 0.0000 bits\n",
            "Context 52: Entropy lower bound = 2.4829 bits\n",
            "Context 53: Entropy lower bound = 4.2034 bits\n",
            "Context 54: Entropy lower bound = 0.0000 bits\n",
            "Context 55: Entropy lower bound = 2.5986 bits\n",
            "Context 56: Entropy lower bound = 0.0000 bits\n",
            "Context 57: Entropy lower bound = 5.5718 bits\n",
            "Context 58: Entropy lower bound = 3.9001 bits\n",
            "Context 59: Entropy lower bound = 2.7549 bits\n",
            "Context 60: Entropy lower bound = 0.0000 bits\n",
            "Context 61: Entropy lower bound = 0.0000 bits\n",
            "Context 62: Entropy lower bound = 0.0000 bits\n",
            "Context 63: Entropy lower bound = 0.0000 bits\n",
            "Context 64: Entropy lower bound = 0.0000 bits\n",
            "Context 65: Entropy lower bound = 0.0000 bits\n",
            "Context 66: Entropy lower bound = 0.0000 bits\n"
          ]
        }
      ]
    },
    {
      "cell_type": "markdown",
      "source": [
        "## Zipf's Law\n",
        "\n",
        "Now let's look at some text data directly to see the skewed distribution of tokens predicted by Zipf's Law. Recall that Zipf's law states that a word's rank (from the most common word at rank 1 on down) to its frequency is approximately a constant, i.e., $r \\cdot f = k$. Equivalently, we can divide both sides by the total number of tokens $N$ to get $r \\cdot P_r = c$, where $c = k/N$ and $P_r = f/N$ is the _relative frequency_ of word $r$.\n",
        "\n",
        "We start by downloading a sample of 1000 open-access English books from [Project Gutenberg](https://gutenberg.org/)."
      ],
      "metadata": {
        "id": "QRingmXrfJSI"
      }
    },
    {
      "cell_type": "code",
      "source": [
        "# If your local environment doesn't have the wget command,\n",
        "# you can comment this out and download it manually.\n",
        "!wget \"http://khoury.northeastern.edu/home/dasmith/pg-sample.json.gz\""
      ],
      "metadata": {
        "id": "iwJS1ClihN_I",
        "colab": {
          "base_uri": "https://localhost:8080/"
        },
        "outputId": "f401676a-285a-46c9-a497-745eddd29bd1"
      },
      "execution_count": 2,
      "outputs": [
        {
          "output_type": "stream",
          "name": "stdout",
          "text": [
            "--2025-09-18 18:21:14--  http://khoury.northeastern.edu/home/dasmith/pg-sample.json.gz\n",
            "Resolving khoury.northeastern.edu (khoury.northeastern.edu)... 52.70.229.197\n",
            "Connecting to khoury.northeastern.edu (khoury.northeastern.edu)|52.70.229.197|:80... connected.\n",
            "HTTP request sent, awaiting response... 200 OK\n",
            "Length: 150984197 (144M) [application/x-gzip]\n",
            "Saving to: ‘pg-sample.json.gz’\n",
            "\n",
            "pg-sample.json.gz   100%[===================>] 143.99M   139MB/s    in 1.0s    \n",
            "\n",
            "2025-09-18 18:21:15 (139 MB/s) - ‘pg-sample.json.gz’ saved [150984197/150984197]\n",
            "\n"
          ]
        }
      ]
    },
    {
      "cell_type": "markdown",
      "source": [
        "The file is compressed with gzip and is in a JSON lines format. Each line is one JSON record, which we parse with the `json` library.\n",
        "\n",
        "Here we print out the keys in the first record: `id`, `author`, `title`, and `text`."
      ],
      "metadata": {
        "id": "rcOHU_GPiYwH"
      }
    },
    {
      "cell_type": "code",
      "source": [
        "import gzip, json\n",
        "for line in gzip.open(\"pg-sample.json.gz\", mode=\"rt\", encoding=\"utf-8\"):\n",
        "  rec = json.loads(line)\n",
        "  print(rec.keys())\n",
        "  print(rec['author'])\n",
        "  print(rec['title'])\n",
        "  print(rec['text'][0:100])\n",
        "  break"
      ],
      "metadata": {
        "colab": {
          "base_uri": "https://localhost:8080/"
        },
        "id": "_L3x1DRZhfTb",
        "outputId": "911cee7b-26e1-4296-8870-86917a8961d2"
      },
      "execution_count": 11,
      "outputs": [
        {
          "output_type": "stream",
          "name": "stdout",
          "text": [
            "dict_keys(['id', 'author', 'title', 'text'])\n",
            "Jefferson, Thomas\n",
            "The Declaration of Independence of the United States of America\n",
            "\n",
            "\n",
            "This is a retranscription of one of the first Project\n",
            "Gutenberg Etexts, offically dated December 3\n"
          ]
        }
      ]
    },
    {
      "cell_type": "markdown",
      "source": [
        "Your task now is to **tokenize** the text in the `text` field of each record into an array of words. Later on in this course, we will discuss learning better tokenizers. For now, you should separate words on whitespace (space, newline, tab) and punctuation. Convert the tokens to lower case, and keep only those tokens that have at least one letter a-z in them. In general, numerals in text tend not to follow Zipf's law but [Benford's law](https://en.wikipedia.org/wiki/Benford%27s_law).\n",
        "\n",
        "You might use _regular expressions_ (e.g., the `re.split` function) to help with tokenization and filtering.\n",
        "\n",
        "After you have tokenized, compute $N$, the total number of tokens in the corpus and print it out."
      ],
      "metadata": {
        "id": "XbfYV9Fyi2UC"
      }
    },
    {
      "cell_type": "code",
      "source": [
        "# TODO: Compute an array of tokens in the corpus\n",
        "# Compute the total number of tokens N and print it out.\n",
        "import re\n",
        "\n",
        "N = 0 #initializing total count\n",
        "pattern = re.compile(r\"\\b[a-zA-Z]+(?:'[a-zA-Z]+)?\\b\") #regex to match all the valid words\n",
        "token_list = []\n",
        "with gzip.open(\"pg-sample.json.gz\", mode=\"rt\", encoding=\"utf-8\") as f:\n",
        "  for line in f:\n",
        "    rec = json.loads(line)\n",
        "    text = rec['text'].lower()\n",
        "    tokens = pattern.findall(text)\n",
        "    token_list.extend(tokens)\n",
        "\n",
        "N = len(token_list)\n",
        "\n",
        "\n",
        "print(\"The total number of tokens are \", N)\n",
        "print(token_list[:30])\n"
      ],
      "metadata": {
        "id": "EsVzek9vkgFc",
        "colab": {
          "base_uri": "https://localhost:8080/"
        },
        "outputId": "fad249c2-f05c-4dfd-9734-7368d5189f22"
      },
      "execution_count": 19,
      "outputs": [
        {
          "output_type": "stream",
          "name": "stdout",
          "text": [
            "The total number of tokens are  68626790\n",
            "['this', 'is', 'a', 'retranscription', 'of', 'one', 'of', 'the', 'first', 'project', 'gutenberg', 'etexts', 'offically', 'dated', 'december', 'and', 'now', 'officially', 're', 'released', 'on', 'november', 'years', 'after', 'it', 'was', 'spoken', 'we', 'will', 'rerelease']\n"
          ]
        }
      ]
    },
    {
      "cell_type": "markdown",
      "source": [
        "Now, count the frequency each unigram (distinct word) in the corpus and sort them in an array in descending order of frequency. The first item in your array should be the most common word. Print out that word and its frequency"
      ],
      "metadata": {
        "id": "XkRccWKsk4TE"
      }
    },
    {
      "cell_type": "code",
      "source": [
        "# TODO: Compute an arrary of unigrams in descending order of frequency.\n",
        "# Print the most common word and its frequency.\n",
        "#print(token_list[:1000])\n",
        "dictonary_frequency = {}\n",
        "for token in token_list:\n",
        "  if token in dictonary_frequency:\n",
        "    dictonary_frequency[token] += 1\n",
        "  else:\n",
        "    dictonary_frequency[token] = 1\n",
        "\n",
        "unigrams = list(dictonary_frequency.items())\n",
        "unigrams.sort(key=lambda x: x[1], reverse=True)\n",
        "most_common_word, freq = unigrams[0]\n",
        "print(\"Most common word:\", most_common_word, \"Frequency:\", freq)\n",
        "print(unigrams[:20])\n"
      ],
      "metadata": {
        "id": "jhJ7ec3jk2eS",
        "colab": {
          "base_uri": "https://localhost:8080/"
        },
        "outputId": "f1029e4e-3250-4d8e-a26a-1f8aa8babd4f"
      },
      "execution_count": 22,
      "outputs": [
        {
          "output_type": "stream",
          "name": "stdout",
          "text": [
            "Most common word: the Frequency: 4460232\n",
            "[('the', 4460232), ('of', 2485915), ('and', 2284477), ('to', 1858308), ('a', 1433235), ('in', 1254699), ('that', 824189), ('i', 749418), ('he', 722058), ('was', 695197), ('it', 687454), ('his', 607441), ('with', 564152), ('for', 540166), ('is', 535960), ('as', 529685), ('you', 438617), ('not', 420633), ('be', 415455), ('had', 411884)]\n"
          ]
        }
      ]
    },
    {
      "cell_type": "markdown",
      "source": [
        "Now, you can look at the Zipf's law relationship between rank and relative frequency (i.e., frequency divided by $N$). Plot the data using a python graphing package such as matplotlib, plotly, or plotnine. This doesn't have to be a fancy graph, so use whatever you're familiar with. Both axes should be on a log scale. If your package doesn't support log scales, you can take the log of the rank and relative frequency yourself before plotting. Recall that since python arrays are zero-indexed, the rank 1 word will be element 0 of your sorted array."
      ],
      "metadata": {
        "id": "ubHNre1ollvl"
      }
    },
    {
      "cell_type": "code",
      "source": [
        "# TODO: Plot rank vs. relative frequency of unigrams.\n",
        "import matplotlib.pyplot as plt\n",
        "import numpy as np\n",
        "\n",
        "ranks = np.arange(1, len(unigrams)+1)\n",
        "relative_frequencies = np.array([freq/N for word, freq in unigrams])\n",
        "\n",
        "# Plot Zipf's law: log-log plot\n",
        "plt.figure(figsize=(8,6))\n",
        "plt.loglog(ranks, relative_frequencies, marker='.', linestyle='none')\n",
        "plt.xlabel('Rank')\n",
        "plt.ylabel('Relative frequency')\n",
        "plt.title(\"Zipf's Law Plot (Log-Log Scale)\")\n",
        "plt.grid(True, which=\"both\", ls=\"-\", lw=0.5)\n",
        "plt.show()"
      ],
      "metadata": {
        "id": "H1wq5OGBmJP1",
        "colab": {
          "base_uri": "https://localhost:8080/",
          "height": 569
        },
        "outputId": "22ec398c-421a-44ed-b682-914d7f0c0f30"
      },
      "execution_count": 32,
      "outputs": [
        {
          "output_type": "display_data",
          "data": {
            "text/plain": [
              "<Figure size 800x600 with 1 Axes>"
            ],
            "image/png": "[encoded data removed]"
          },
          "metadata": {}
        }
      ]
    },
    {
      "cell_type": "markdown",
      "source": [
        "Now, take your array of tokens and compute the counts of both the bigrams and trigrams and sort them in descending order of frequency. Print out the most common bigram and trigram."
      ],
      "metadata": {
        "id": "dTVQFNXOmc34"
      }
    },
    {
      "cell_type": "code",
      "source": [
        "# TODO: Compute sorted bigram and trigram statistics.\n",
        "# Print out the most common bigram and trigram.\n",
        "# Plot rank vs. relative frequency for bigrams and trigrams.\n",
        "# You may make separate plots or put them on the same plot and label them."
      ],
      "metadata": {
        "id": "glYoeIsJmm_d"
      },
      "execution_count": null,
      "outputs": []
    },
    {
      "cell_type": "markdown",
      "source": [
        "**TODO**: Finally, write your visual impressions of the fit of the unigram, bigram, and trigram distributions. This doesn't need to be statistically rigorous."
      ],
      "metadata": {
        "id": "TdUTKyE6m0qF"
      }
    }
  ]
}